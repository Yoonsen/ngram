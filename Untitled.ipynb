{
 "cells": [
  {
   "cell_type": "code",
   "execution_count": 1,
   "metadata": {},
   "outputs": [],
   "source": [
    "import dhlab.module_update as mu"
   ]
  },
  {
   "cell_type": "code",
   "execution_count": 3,
   "metadata": {},
   "outputs": [
    {
     "data": {
      "text/markdown": [
       "Updated file `C:\\Users\\larsj\\Documents\\GitHub\\ngram\\dhlab_v2.py`"
      ],
      "text/plain": [
       "<IPython.core.display.Markdown object>"
      ]
     },
     "metadata": {},
     "output_type": "display_data"
    }
   ],
   "source": [
    "mu.update('dhlab_v2')"
   ]
  },
  {
   "cell_type": "code",
   "execution_count": 4,
   "metadata": {},
   "outputs": [],
   "source": [
    "import dhlab_v2 as d2"
   ]
  },
  {
   "cell_type": "code",
   "execution_count": 43,
   "metadata": {},
   "outputs": [
    {
     "data": {
      "text/plain": [
       "219"
      ]
     },
     "execution_count": 43,
     "metadata": {},
     "output_type": "execute_result"
    }
   ],
   "source": [
    "samples = list(d2.document_corpus(doctype = 'digibok', subject = 'medisin', from_year = 2010, limit =2000).urn)\n",
    "len(samples)"
   ]
  },
  {
   "cell_type": "code",
   "execution_count": 59,
   "metadata": {},
   "outputs": [
    {
     "data": {
      "text/markdown": [
       "100238433:... askorbinsyre vitamin C , vassløyseleg vitamin som finst i <b>frukt</b> og grønsaker , særleg i sitronar og <b>jordbær</b> ; trengst for danninga av intercellulærsubstans i bindevev og for... \n",
       "\n",
       "100412473:... frossen <b>frukt</b> i terninger for å lindre munntørrheten . Papaya , mango , kiwi , melon og andre frukter kan skjaeres i terninger og fryses ned . Frosne <b>jordbær</b> og... \n",
       "\n",
       "100412473:Appelsin , Eple , <b>Jordbær</b> , Sitron , Skogsbær , Solbær , Tropisk <b>frukt</b>\n",
       "\n",
       "100412473:Grønnsaker <b>Frukt</b> og bær Rotfrukter Lavt 0 - 100 mg kalium hermetiske bønner , mais blåbær , tyttebær , tranebær , herme- tisk ananas , pærer , oliven Moderat 100 - 150 mg... \n",
       "\n",
       "100409644:... I tillegg kan du også tilsette <b>jordbær</b> eller annen <b>frukt</b> hvis du ønsker .\n",
       "\n",
       "100409644:... Man kan i grunnen bruke hvilken som helst <b>frukt</b> , men fersken og <b>jordbær</b> er typisk for drikken og bør ikke utelates .\n",
       "\n",
       "100409644:... Denne varianten av rensekur legger vekt på én spesiell type <b>frukt</b> og dens helsebringende egenskaper ( kirsebær , <b>jordbær</b> , appelsin osv. ) . Den kan også gjennomføres en , to... \n",
       "\n",
       "100409644:I noen av juicene og smoothiene i dette kapittelet har vi kombinert <b>frukt</b> og grønnsaker , som mango og spinat eller <b>jordbær</b> og brokkoli . Det kan... \n",
       "\n",
       "100389752:gode kilder : Grønnsaker som spinat , potet , gulrot og avokado og <b>frukt</b> , for eksempel grapefrukt , vannmelon , banan og <b>jordbær</b> , i tillegg til yoghurt ."
      ],
      "text/plain": [
       "<IPython.core.display.Markdown object>"
      ]
     },
     "metadata": {},
     "output_type": "display_data"
    }
   ],
   "source": [
    "mu.printmd('\\n\\n'.join([':'.join(str(x) for x in r[1]) for r in d2.concordance(urns = samples, words = \"jordbær frukt\")[['docid','conc']].iterrows()]))"
   ]
  },
  {
   "cell_type": "code",
   "execution_count": null,
   "metadata": {},
   "outputs": [],
   "source": []
  }
 ],
 "metadata": {
  "kernelspec": {
   "display_name": "Python 3",
   "language": "python",
   "name": "python3"
  },
  "language_info": {
   "codemirror_mode": {
    "name": "ipython",
    "version": 3
   },
   "file_extension": ".py",
   "mimetype": "text/x-python",
   "name": "python",
   "nbconvert_exporter": "python",
   "pygments_lexer": "ipython3",
   "version": "3.8.3"
  }
 },
 "nbformat": 4,
 "nbformat_minor": 5
}
